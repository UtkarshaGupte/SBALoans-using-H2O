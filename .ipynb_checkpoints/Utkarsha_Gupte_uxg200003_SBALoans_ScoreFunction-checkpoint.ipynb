{
 "cells": [
  {
   "cell_type": "code",
   "execution_count": 1,
   "id": "65f77bc2",
   "metadata": {},
   "outputs": [],
   "source": [
    "\n",
    "def project_2_scoring_loans(data):\n",
    "    \"\"\"\n",
    "    Function to score input dataset.\n",
    "    \n",
    "    Input: dataset in Pandas DataFrame format\n",
    "    Output: Python list of labels in the same order as input records\n",
    "    \n",
    "    Flow:\n",
    "        - Load artifacts\n",
    "        - Transform dataset\n",
    "        - Score dataset\n",
    "        - Return labels\n",
    "    \n",
    "    \"\"\"\n",
    "    \n",
    "    import numpy as np\n",
    "\n",
    "    '''Replacing Na/Null values'''\n",
    "    values_to_fill = {}\n",
    "    for col in data.drop(columns=['MIS_Status']).columns:\n",
    "        if data[col].dtype == 'object':\n",
    "            values_to_fill[col] = \"Missing\"\n",
    "        else:\n",
    "            values_to_fill[col] = 0\n",
    "\n",
    "    data.fillna(value=values_to_fill,inplace=True)\n",
    "\n",
    "    '''Converting the strings styled as '$XXXX.XX' to float values'''\n",
    "    col_toFloat = ['DisbursementGross', 'BalanceGross', 'GrAppv', 'SBA_Appv']\n",
    "    for col in col_toFloat:\n",
    "        data[col] = data[col].apply(lambda x: (x.replace(' ','')))\n",
    "        data[col] = data[col].apply(lambda x: (x.replace(',','')))\n",
    "        data[col] = data[col].apply(lambda x: (x.replace('$','')))\n",
    "        data[col] = data[col].astype(float)\n",
    "\n",
    "    \n",
    "    data['LoanDisbursedPerCity'] = data.groupby('City')['DisbursementGross'].transform(np.sum)\n",
    "    data['LoanPaid'] = data['DisbursementGross'] - data['BalanceGross']\n",
    "\n",
    "    X = data.copy()\n",
    "\n",
    "    loans_hold_out_data = h2o.H2OFrame(X)\n",
    "\n",
    "    cat_columns = ['City', 'State', 'Bank', 'BankState', 'RevLineCr', 'LowDoc', 'Zip', 'UrbanRural', 'FranchiseCode', 'NewExist']\n",
    "    response = \"MIS_Status\"\n",
    "\n",
    "\n",
    "    loans_hold_out_data[cat_columns+[response]] = loans_hold_out_data[cat_columns+[response]].asfactor()\n",
    "\n",
    "\n",
    "    # upload the model that you just downloded above\n",
    "    # to the H2O cluster\n",
    "    model_path = \"./artifacts_SBALoans/gbm_grid1_model_120\"\n",
    "    loans_gbm_model = h2o.upload_model(model_path)\n",
    "\n",
    "\n",
    "    columns_to_score = loans_hold_out_data.columns\n",
    "    columns_to_score.remove('MIS_Status')\n",
    "\n",
    "    y_pred = loans_gbm_model.predict(loans_hold_out_data[:,columns_to_score])['predict']\n",
    "    \n",
    "    \n",
    "    return y_pred"
   ]
  },
  {
   "cell_type": "code",
   "execution_count": 2,
   "id": "0d7e1749",
   "metadata": {},
   "outputs": [],
   "source": [
    "import warnings\n",
    "warnings.filterwarnings('ignore')\n",
    "\n",
    "import pandas as pd \n",
    "\n",
    "import shap\n",
    "\n",
    "import h2o\n",
    "from h2o.estimators import H2OTargetEncoderEstimator\n",
    "\n",
    "try:\n",
    "    h2o.cluster().shutdown()\n",
    "except:\n",
    "    pass "
   ]
  },
  {
   "cell_type": "code",
   "execution_count": 3,
   "id": "2c44632b",
   "metadata": {},
   "outputs": [
    {
     "name": "stdout",
     "output_type": "stream",
     "text": [
      "Checking whether there is an H2O instance running at http://localhost:54321 . connected.\n",
      "Warning: Your H2O cluster version is too old (4 months and 6 days)!Please download and install the latest version from http://h2o.ai/download/\n"
     ]
    },
    {
     "data": {
      "text/html": [
       "<div style=\"overflow:auto\"><table style=\"width:50%\"><tr><td>H2O_cluster_uptime:</td>\n",
       "<td>2 hours 54 mins</td></tr>\n",
       "<tr><td>H2O_cluster_timezone:</td>\n",
       "<td>America/Los_Angeles</td></tr>\n",
       "<tr><td>H2O_data_parsing_timezone:</td>\n",
       "<td>UTC</td></tr>\n",
       "<tr><td>H2O_cluster_version:</td>\n",
       "<td>3.36.0.1</td></tr>\n",
       "<tr><td>H2O_cluster_version_age:</td>\n",
       "<td>4 months and 6 days !!!</td></tr>\n",
       "<tr><td>H2O_cluster_name:</td>\n",
       "<td>H2O_from_python_General_1x6yvg</td></tr>\n",
       "<tr><td>H2O_cluster_total_nodes:</td>\n",
       "<td>1</td></tr>\n",
       "<tr><td>H2O_cluster_free_memory:</td>\n",
       "<td>7.413 Gb</td></tr>\n",
       "<tr><td>H2O_cluster_total_cores:</td>\n",
       "<td>4</td></tr>\n",
       "<tr><td>H2O_cluster_allowed_cores:</td>\n",
       "<td>3</td></tr>\n",
       "<tr><td>H2O_cluster_status:</td>\n",
       "<td>locked, healthy</td></tr>\n",
       "<tr><td>H2O_connection_url:</td>\n",
       "<td>http://localhost:54321</td></tr>\n",
       "<tr><td>H2O_connection_proxy:</td>\n",
       "<td>{\"http\": null, \"https\": null}</td></tr>\n",
       "<tr><td>H2O_internal_security:</td>\n",
       "<td>False</td></tr>\n",
       "<tr><td>H2O_API_Extensions:</td>\n",
       "<td>Amazon S3, Algos, Infogram, AutoML, Core V3, TargetEncoder, Core V4</td></tr>\n",
       "<tr><td>Python_version:</td>\n",
       "<td>3.8.10 final</td></tr></table></div>"
      ],
      "text/plain": [
       "--------------------------  -------------------------------------------------------------------\n",
       "H2O_cluster_uptime:         2 hours 54 mins\n",
       "H2O_cluster_timezone:       America/Los_Angeles\n",
       "H2O_data_parsing_timezone:  UTC\n",
       "H2O_cluster_version:        3.36.0.1\n",
       "H2O_cluster_version_age:    4 months and 6 days !!!\n",
       "H2O_cluster_name:           H2O_from_python_General_1x6yvg\n",
       "H2O_cluster_total_nodes:    1\n",
       "H2O_cluster_free_memory:    7.413 Gb\n",
       "H2O_cluster_total_cores:    4\n",
       "H2O_cluster_allowed_cores:  3\n",
       "H2O_cluster_status:         locked, healthy\n",
       "H2O_connection_url:         http://localhost:54321\n",
       "H2O_connection_proxy:       {\"http\": null, \"https\": null}\n",
       "H2O_internal_security:      False\n",
       "H2O_API_Extensions:         Amazon S3, Algos, Infogram, AutoML, Core V3, TargetEncoder, Core V4\n",
       "Python_version:             3.8.10 final\n",
       "--------------------------  -------------------------------------------------------------------"
      ]
     },
     "metadata": {},
     "output_type": "display_data"
    }
   ],
   "source": [
    "#Limit to 3 threads and 8GB memory\n",
    "h2o.init(nthreads=3, max_mem_size=8)"
   ]
  },
  {
   "cell_type": "code",
   "execution_count": 7,
   "id": "d1cbc352",
   "metadata": {},
   "outputs": [],
   "source": [
    "data_hold_out = pd.read_csv('sbaLoansTest.csv')"
   ]
  },
  {
   "cell_type": "code",
   "execution_count": 8,
   "id": "928f31cb",
   "metadata": {},
   "outputs": [
    {
     "name": "stdout",
     "output_type": "stream",
     "text": [
      "Parse progress: |████████████████████████████████████████████████████████████████| (done) 100%\n",
      "gbm prediction progress: |███████████████████████████████████████████████████████| (done) 100%\n"
     ]
    }
   ],
   "source": [
    "ans = project_2_scoring_loans(data_hold_out)"
   ]
  },
  {
   "cell_type": "code",
   "execution_count": 9,
   "id": "fef72d0c",
   "metadata": {},
   "outputs": [
    {
     "data": {
      "text/html": [
       "<table>\n",
       "<thead>\n",
       "<tr><th style=\"text-align: right;\">  predict</th></tr>\n",
       "</thead>\n",
       "<tbody>\n",
       "<tr><td style=\"text-align: right;\">        0</td></tr>\n",
       "<tr><td style=\"text-align: right;\">        0</td></tr>\n",
       "<tr><td style=\"text-align: right;\">        0</td></tr>\n",
       "<tr><td style=\"text-align: right;\">        0</td></tr>\n",
       "<tr><td style=\"text-align: right;\">        0</td></tr>\n",
       "<tr><td style=\"text-align: right;\">        0</td></tr>\n",
       "<tr><td style=\"text-align: right;\">        0</td></tr>\n",
       "<tr><td style=\"text-align: right;\">        0</td></tr>\n",
       "<tr><td style=\"text-align: right;\">        1</td></tr>\n",
       "<tr><td style=\"text-align: right;\">        0</td></tr>\n",
       "</tbody>\n",
       "</table>"
      ]
     },
     "metadata": {},
     "output_type": "display_data"
    },
    {
     "data": {
      "text/plain": []
     },
     "execution_count": 9,
     "metadata": {},
     "output_type": "execute_result"
    }
   ],
   "source": [
    "ans"
   ]
  },
  {
   "cell_type": "code",
   "execution_count": null,
   "id": "2cc0d94b",
   "metadata": {},
   "outputs": [],
   "source": []
  }
 ],
 "metadata": {
  "kernelspec": {
   "display_name": "Python 3 (ipykernel)",
   "language": "python",
   "name": "python3"
  },
  "language_info": {
   "codemirror_mode": {
    "name": "ipython",
    "version": 3
   },
   "file_extension": ".py",
   "mimetype": "text/x-python",
   "name": "python",
   "nbconvert_exporter": "python",
   "pygments_lexer": "ipython3",
   "version": "3.8.10"
  }
 },
 "nbformat": 4,
 "nbformat_minor": 5
}
